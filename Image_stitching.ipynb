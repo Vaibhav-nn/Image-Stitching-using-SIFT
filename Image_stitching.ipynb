{
  "nbformat": 4,
  "nbformat_minor": 0,
  "metadata": {
    "colab": {
      "name": "Image_stitching.ipynb",
      "provenance": []
    },
    "kernelspec": {
      "name": "python3",
      "display_name": "Python 3"
    }
  },
  "cells": [
    {
      "cell_type": "code",
      "metadata": {
        "id": "0Ouu4oJr89Wh",
        "colab_type": "code",
        "colab": {}
      },
      "source": [
        "!git clone https://github.com/pavanpn/Image-Stitching"
      ],
      "execution_count": 0,
      "outputs": []
    },
    {
      "cell_type": "code",
      "metadata": {
        "id": "qqDYjvSzI5CG",
        "colab_type": "code",
        "colab": {}
      },
      "source": [
        "%cd ./Image-Stitching/"
      ],
      "execution_count": 0,
      "outputs": []
    },
    {
      "cell_type": "code",
      "metadata": {
        "id": "R1RARfVhJe7b",
        "colab_type": "code",
        "outputId": "f1156557-1079-4f95-e05a-845dca525b74",
        "colab": {
          "base_uri": "https://localhost:8080/",
          "height": 33
        }
      },
      "source": [
        "!pip uninstall opencv-python"
      ],
      "execution_count": 0,
      "outputs": [
        {
          "output_type": "stream",
          "text": [
            "\u001b[33mWARNING: Skipping opencv-python as it is not installed.\u001b[0m\n"
          ],
          "name": "stdout"
        }
      ]
    },
    {
      "cell_type": "code",
      "metadata": {
        "id": "DGEdBSgd5bGR",
        "colab_type": "code",
        "colab": {
          "base_uri": "https://localhost:8080/",
          "height": 50
        },
        "outputId": "a30f2f21-cfc0-4362-ab15-ccc79ecaa0fe"
      },
      "source": [
        "%cd ./Image-Stitching/"
      ],
      "execution_count": 40,
      "outputs": [
        {
          "output_type": "stream",
          "text": [
            "[Errno 2] No such file or directory: './Image-Stitching/'\n",
            "/content/Image-Stitching/Image-Stitching\n"
          ],
          "name": "stdout"
        }
      ]
    },
    {
      "cell_type": "code",
      "metadata": {
        "id": "m-GgN2NHX0k-",
        "colab_type": "code",
        "outputId": "e2094c46-dfe7-4d94-ff7b-0c88fb566833",
        "colab": {
          "base_uri": "https://localhost:8080/",
          "height": 233
        }
      },
      "source": [
        "!pip install opencv-python==3.4.2.17\n"
      ],
      "execution_count": 0,
      "outputs": [
        {
          "output_type": "stream",
          "text": [
            "Collecting opencv-python==3.4.2.17\n",
            "\u001b[?25l  Downloading https://files.pythonhosted.org/packages/53/e0/21c8964fa8ef50842ebefaa7346a3cf0e37b56c8ecd97ed6bd2dbe577705/opencv_python-3.4.2.17-cp36-cp36m-manylinux1_x86_64.whl (25.0MB)\n",
            "\u001b[K     |████████████████████████████████| 25.0MB 163kB/s \n",
            "\u001b[?25hRequirement already satisfied: numpy>=1.11.3 in /usr/local/lib/python3.6/dist-packages (from opencv-python==3.4.2.17) (1.18.4)\n",
            "\u001b[31mERROR: albumentations 0.1.12 has requirement imgaug<0.2.7,>=0.2.5, but you'll have imgaug 0.2.9 which is incompatible.\u001b[0m\n",
            "Installing collected packages: opencv-python\n",
            "Successfully installed opencv-python-3.4.2.17\n"
          ],
          "name": "stdout"
        },
        {
          "output_type": "display_data",
          "data": {
            "application/vnd.colab-display-data+json": {
              "pip_warning": {
                "packages": [
                  "cv2"
                ]
              }
            }
          },
          "metadata": {
            "tags": []
          }
        }
      ]
    },
    {
      "cell_type": "markdown",
      "metadata": {
        "id": "ukp6ILQ3KIlF",
        "colab_type": "text"
      },
      "source": [
        "##We need to install OpenCV contrib to use SIFT"
      ]
    },
    {
      "cell_type": "code",
      "metadata": {
        "id": "M-v7VaIgsUHK",
        "colab_type": "code",
        "outputId": "0dde9164-7d3b-4ec0-cd90-f2330236781c",
        "colab": {
          "base_uri": "https://localhost:8080/",
          "height": 266
        }
      },
      "source": [
        "pip install opencv-contrib-python==3.4.2.17\n"
      ],
      "execution_count": 0,
      "outputs": [
        {
          "output_type": "stream",
          "text": [
            "Collecting opencv-contrib-python==3.4.2.17\n",
            "\u001b[?25l  Downloading https://files.pythonhosted.org/packages/61/29/fc60b2de1713aa92946992544329f20ccb5e4ba26290f403e04b7da44105/opencv_contrib_python-3.4.2.17-cp36-cp36m-manylinux1_x86_64.whl (30.6MB)\n",
            "\u001b[K     |████████████████████████████████| 30.6MB 69.2MB/s \n",
            "\u001b[?25hRequirement already satisfied: numpy>=1.11.3 in /usr/local/lib/python3.6/dist-packages (from opencv-contrib-python==3.4.2.17) (1.18.4)\n",
            "Installing collected packages: opencv-contrib-python\n",
            "  Found existing installation: opencv-contrib-python 3.4.8.29\n",
            "    Uninstalling opencv-contrib-python-3.4.8.29:\n",
            "      Successfully uninstalled opencv-contrib-python-3.4.8.29\n",
            "Successfully installed opencv-contrib-python-3.4.2.17\n"
          ],
          "name": "stdout"
        },
        {
          "output_type": "display_data",
          "data": {
            "application/vnd.colab-display-data+json": {
              "pip_warning": {
                "packages": [
                  "cv2"
                ]
              }
            }
          },
          "metadata": {
            "tags": []
          }
        }
      ]
    },
    {
      "cell_type": "code",
      "metadata": {
        "id": "apYi2zDl3eyc",
        "colab_type": "code",
        "colab": {}
      },
      "source": [
        "import sys\n",
        "import cv2\n",
        "import numpy as np\n",
        "\n",
        "# Use the keypoints to stitch the images\n",
        "def get_stitched_image(img1, img2, M):\n",
        "\n",
        "\t# Get width and height of input images\t\n",
        "\tw1,h1 = img1.shape[:2]\n",
        "\tw2,h2 = img2.shape[:2]\n",
        "\n",
        "\t# Get the canvas dimesions\n",
        "\timg1_dims = np.float32([ [0,0], [0,w1], [h1, w1], [h1,0] ]).reshape(-1,1,2)\n",
        "\timg2_dims_temp = np.float32([ [0,0], [0,w2], [h2, w2], [h2,0] ]).reshape(-1,1,2)\n",
        "\n",
        "\n",
        "\t# Get relative perspective of second image\n",
        "\timg2_dims = cv2.perspectiveTransform(img2_dims_temp, M)\n",
        "\n",
        "\t# Resulting dimensions\n",
        "\tresult_dims = np.concatenate( (img1_dims, img2_dims), axis = 0)\n",
        "\n",
        "\t# Getting images together\n",
        "\t# Calculate dimensions of match points\n",
        "\t[x_min, y_min] = np.int32(result_dims.min(axis=0).ravel() - 0.5)\n",
        "\t[x_max, y_max] = np.int32(result_dims.max(axis=0).ravel() + 0.5)\n",
        "\t\n",
        "\t# Create output array after affine transformation \n",
        "\ttransform_dist = [-x_min,-y_min]\n",
        "\ttransform_array = np.array([[1, 0, transform_dist[0]], \n",
        "\t\t\t\t\t\t\t\t[0, 1, transform_dist[1]], \n",
        "\t\t\t\t\t\t\t\t[0,0,1]]) \n",
        "\n",
        "\t# Warp images to get the resulting image\n",
        "\tresult_img = cv2.warpPerspective(img2, transform_array.dot(M), \n",
        "\t\t\t\t\t\t\t\t\t(x_max-x_min, y_max-y_min))\n",
        "\tresult_img[transform_dist[1]:w1+transform_dist[1], \n",
        "\t\t\t\ttransform_dist[0]:h1+transform_dist[0]] = img1\n",
        "\n",
        "\t# Return the result\n",
        "\treturn result_img\n",
        "\n",
        "# Find SIFT and return Homography Matrix\n",
        "def get_sift_homography(img1, img2):\n",
        "\n",
        "\t# Initialize SIFT \n",
        "\tsift = cv2.xfeatures2d.SIFT_create()\n",
        "\n",
        "\t# Extract keypoints and descriptors\n",
        "\tk1, d1 = sift.detectAndCompute(img1, None)\n",
        "\tk2, d2 = sift.detectAndCompute(img2, None)\n",
        "\n",
        "\t# Bruteforce matcher on the descriptors\n",
        "\tbf = cv2.BFMatcher()\n",
        "\tmatches = bf.knnMatch(d1,d2, k=2)\n",
        "\n",
        "\t# Make sure that the matches are good\n",
        "\tverify_ratio = 0.8 # Source: stackoverflow\n",
        "\tverified_matches = []\n",
        "\tfor m1,m2 in matches:\n",
        "\t\t# Add to array only if it's a good match\n",
        "\t\tif m1.distance < 0.8 * m2.distance:\n",
        "\t\t\tverified_matches.append(m1)\n",
        "\n",
        "\t# Mimnum number of matches\n",
        "\tmin_matches = 8\n",
        "\tif len(verified_matches) > min_matches:\n",
        "\t\t\n",
        "\t\t# Array to store matching points\n",
        "\t\timg1_pts = []\n",
        "\t\timg2_pts = []\n",
        "\n",
        "\t\t# Add matching points to array\n",
        "\t\tfor match in verified_matches:\n",
        "\t\t\timg1_pts.append(k1[match.queryIdx].pt)\n",
        "\t\t\timg2_pts.append(k2[match.trainIdx].pt)\n",
        "\t\timg1_pts = np.float32(img1_pts).reshape(-1,1,2)\n",
        "\t\timg2_pts = np.float32(img2_pts).reshape(-1,1,2)\n",
        "\t\t\n",
        "\t\t# Compute homography matrix\n",
        "\t\tM, mask = cv2.findHomography(img1_pts, img2_pts, cv2.RANSAC, 5.0)\n",
        "\t\treturn M\n",
        "\telse:\n",
        "\t\tprint('Error: Not enough matches')\n",
        "\t\texit()\n",
        "\n",
        "# Equalize Histogram of Color Images\n",
        "def equalize_histogram_color(img):\n",
        "\timg_yuv = cv2.cvtColor(img, cv2.COLOR_BGR2YUV)\n",
        "\timg_yuv[:,:,0] = cv2.equalizeHist(img_yuv[:,:,0])\n",
        "\timg = cv2.cvtColor(img_yuv, cv2.COLOR_YUV2BGR)\n",
        "\treturn img\n"
      ],
      "execution_count": 0,
      "outputs": []
    },
    {
      "cell_type": "code",
      "metadata": {
        "id": "JS08odY6JUfc",
        "colab_type": "code",
        "colab": {}
      },
      "source": [
        "# Main function definition\n",
        "def main():\n",
        "\t\n",
        "\t# Get input set of images\n",
        "\timg1 = cv2.imread('/content/Image-Stitching/Image-Stitching/T1.jpg')\n",
        "\timg2 = cv2.imread('/content/Image-Stitching/Image-Stitching/T2.jpg')\n",
        "  \n",
        "\timg1= cv2.resize(img1, (1024,1024), interpolation = cv2.INTER_AREA)\n",
        "\timg2= cv2.resize(img2, (1024,1024), interpolation = cv2.INTER_AREA)  \n",
        "\t# Equalize histogram\n",
        "\timg1 = equalize_histogram_color(img1)\n",
        "\timg2 = equalize_histogram_color(img2)\n",
        "\n",
        "\t# Show input images\n",
        "\t#input_images = np.hstack( (img1, img2) )\n",
        "\t#cv2.imshow ('Input Images', input_images)\n",
        "\n",
        "\t# Use SIFT to find keypoints and return homography matrix\n",
        "\tM =  get_sift_homography(img1, img2)\n",
        "\n",
        "\t# Stitch the images together using homography matrix\n",
        "\tresult_image = get_stitched_image(img2, img1, M)\n",
        "\n",
        "\t# Write the result to the same directory\n",
        "\t#result_image_name = 'results/result_'+sys.argv[1]\n",
        "\tcv2.imwrite('result_image_name.jpg', result_image)\n",
        "\n",
        "\t# Show the resulting image\n",
        "\t#cv2.imshow ('Result', result_image)\n",
        "\t#cv2.waitKey()\n",
        "\n",
        "# Call main function\n",
        "if __name__=='__main__':\n",
        "\tmain()"
      ],
      "execution_count": 0,
      "outputs": []
    }
  ]
}